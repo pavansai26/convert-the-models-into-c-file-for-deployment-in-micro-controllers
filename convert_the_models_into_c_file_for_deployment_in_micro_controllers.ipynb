{
  "nbformat": 4,
  "nbformat_minor": 0,
  "metadata": {
    "colab": {
      "name": "convert the models into c file for deployment in micro controllers.ipynb",
      "provenance": [],
      "private_outputs": true,
      "authorship_tag": "ABX9TyMm1apQVRayRn9qwTDns7Za",
      "include_colab_link": true
    },
    "kernelspec": {
      "name": "python3",
      "display_name": "Python 3"
    },
    "accelerator": "TPU"
  },
  "cells": [
    {
      "cell_type": "markdown",
      "metadata": {
        "id": "view-in-github",
        "colab_type": "text"
      },
      "source": [
        "<a href=\"https://colab.research.google.com/github/pavansai26/convert-the-models-into-c-file-for-deployment-in-micro-controllers/blob/master/convert_the_models_into_c_file_for_deployment_in_micro_controllers.ipynb\" target=\"_parent\"><img src=\"https://colab.research.google.com/assets/colab-badge.svg\" alt=\"Open In Colab\"/></a>"
      ]
    },
    {
      "cell_type": "code",
      "metadata": {
        "id": "AnAwj8dw8Xjl",
        "colab_type": "code",
        "colab": {}
      },
      "source": [
        "import numpy as np\n",
        "import pandas as pd\n",
        "import matplotlib.pyplot as plt\n",
        "import math\n"
      ],
      "execution_count": 0,
      "outputs": []
    },
    {
      "cell_type": "code",
      "metadata": {
        "id": "vkUuIq0D958S",
        "colab_type": "code",
        "colab": {}
      },
      "source": [
        "samples=1000\n",
        "np.random.seed(1337)\n",
        "x_values=np.random.uniform(low=0,high=2*math.pi,size=samples)\n",
        "np.random.shuffle(x_values)\n",
        "y_values=np.sin(x_values)\n",
        "plt.plot(x_values,y_values)"
      ],
      "execution_count": 0,
      "outputs": []
    },
    {
      "cell_type": "code",
      "metadata": {
        "id": "tOXvAX3Q-8Rl",
        "colab_type": "code",
        "colab": {}
      },
      "source": [
        "# add random noise\n",
        "y_values+=0.1*np.random.randn(*y_values.shape)\n",
        "plt.plot(x_values,y_values)"
      ],
      "execution_count": 0,
      "outputs": []
    },
    {
      "cell_type": "code",
      "metadata": {
        "id": "euIUKZOT_quY",
        "colab_type": "code",
        "colab": {}
      },
      "source": [
        "train_split=int(0.6*samples)\n",
        "test_split=int(0.2*samples+train_split)"
      ],
      "execution_count": 0,
      "outputs": []
    },
    {
      "cell_type": "code",
      "metadata": {
        "id": "mGVR4ONhAKyt",
        "colab_type": "code",
        "colab": {}
      },
      "source": [
        "x_train,x_test,x_validate=np.split(x_values,[train_split,test_split])"
      ],
      "execution_count": 0,
      "outputs": []
    },
    {
      "cell_type": "code",
      "metadata": {
        "id": "7sLRoTTTAjdk",
        "colab_type": "code",
        "colab": {}
      },
      "source": [
        "y_train,y_test,y_validate=np.split(y_values,[train_split,test_split])"
      ],
      "execution_count": 0,
      "outputs": []
    },
    {
      "cell_type": "code",
      "metadata": {
        "id": "2Wr-z-SHA7ER",
        "colab_type": "code",
        "colab": {}
      },
      "source": [
        "#double check that our splits add up correctly\n",
        "assert(x_train.size+x_test.size+x_validate.size)==samples"
      ],
      "execution_count": 0,
      "outputs": []
    },
    {
      "cell_type": "code",
      "metadata": {
        "id": "ZqJLTjMsBTYv",
        "colab_type": "code",
        "colab": {}
      },
      "source": [
        "# plot the data in each partition in different colors\n",
        "plt.plot(x_train,y_train,label='train')\n",
        "plt.plot(x_test,y_test,label='test')\n",
        "plt.plot(x_validate,y_validate,label='validate')\n",
        "plt.legend()\n",
        "plt.show()"
      ],
      "execution_count": 0,
      "outputs": []
    },
    {
      "cell_type": "code",
      "metadata": {
        "id": "Thv35D5zCKPX",
        "colab_type": "code",
        "colab": {}
      },
      "source": [
        "import tensorflow as tf\n",
        "from tensorflow.keras import layers\n"
      ],
      "execution_count": 0,
      "outputs": []
    },
    {
      "cell_type": "code",
      "metadata": {
        "id": "gi4vAHU-Ceqq",
        "colab_type": "code",
        "colab": {}
      },
      "source": [
        "model_1=tf.keras.Sequential()\n",
        "model_1.add(layers.Dense(16,activation='relu',input_shape=(1,)))\n",
        "model_1.add(layers.Dense(1))"
      ],
      "execution_count": 0,
      "outputs": []
    },
    {
      "cell_type": "code",
      "metadata": {
        "id": "YLeTC2JNDeNA",
        "colab_type": "code",
        "colab": {}
      },
      "source": [
        "model_1.compile(optimizer='rmsprop',loss='mse',metrics=['mae'])"
      ],
      "execution_count": 0,
      "outputs": []
    },
    {
      "cell_type": "code",
      "metadata": {
        "id": "GylrNSa-D20W",
        "colab_type": "code",
        "colab": {}
      },
      "source": [
        "history_1=model_1.fit(x_train,y_train,epochs=1000,batch_size=64,validation_data=(x_validate,y_validate))"
      ],
      "execution_count": 0,
      "outputs": []
    },
    {
      "cell_type": "code",
      "metadata": {
        "id": "YY1TLyxvEYje",
        "colab_type": "code",
        "colab": {}
      },
      "source": [
        "history_1=model_1.fit(x_train,y_train,epochs=1000,validation_data=(x_validate,y_validate))"
      ],
      "execution_count": 0,
      "outputs": []
    },
    {
      "cell_type": "code",
      "metadata": {
        "id": "t-D38MGLG6SH",
        "colab_type": "code",
        "colab": {}
      },
      "source": [
        "loss=history_1.history['loss']\n",
        "val_loss=history_1.history['val_loss']\n",
        "epochs=range(1,len(loss)+1)\n",
        "plt.plot(epochs,loss,'g.',label='training loss')\n",
        "plt.plot(epochs,val_loss,'b',label='validation loss')\n",
        "plt.title('training and validation loss')\n",
        "plt.xlabel('epochs')\n",
        "plt.ylabel('loss')\n",
        "plt.legend()\n",
        "plt.show()"
      ],
      "execution_count": 0,
      "outputs": []
    },
    {
      "cell_type": "code",
      "metadata": {
        "id": "ldOyQ-DfKqLh",
        "colab_type": "code",
        "colab": {}
      },
      "source": [
        "# exclude the first few epochs so the graph will be easier to read\n",
        "skip=50\n",
        "plt.plot(epochs[skip:],loss[skip:],'g.',label='training loss')\n",
        "plt.plot(epochs[skip:],val_loss[skip:],'b',label='validation loss')\n",
        "plt.title('training and validation loss')\n",
        "plt.title('epochs')\n",
        "plt.title('loss')\n",
        "plt.legend()\n",
        "plt.show()\n"
      ],
      "execution_count": 0,
      "outputs": []
    },
    {
      "cell_type": "code",
      "metadata": {
        "id": "I-6ge9OJM9sp",
        "colab_type": "code",
        "colab": {}
      },
      "source": [
        "plt.clf()\n",
        "mae=history_1.history['mae']\n",
        "val_mae=history_1.history['val_mae']\n",
        "plt.plot(epochs[skip:],mae[skip:],'g.',label='training mae')\n",
        "plt.plot(epochs[skip:],val_mae[skip:],'b',label='validation loss mae')\n",
        "plt.title('training and validation mean absolute error')\n",
        "plt.xlabel('epochs')\n",
        "plt.ylabel('mae')\n",
        "plt.legend()\n",
        "plt.show()"
      ],
      "execution_count": 0,
      "outputs": []
    },
    {
      "cell_type": "code",
      "metadata": {
        "id": "Cw-G_cGWOLUz",
        "colab_type": "code",
        "colab": {}
      },
      "source": [
        "predictions=model_1.predict(x_train)\n",
        "plt.clf()\n",
        "plt.title('training data predicted vs actual values')\n",
        "plt.plot(x_train,y_train,'b',label='actual')\n",
        "plt.plot(x_train,predictions,'r',label='predicted')\n",
        "plt.legend()\n",
        "plt.show()\n"
      ],
      "execution_count": 0,
      "outputs": []
    },
    {
      "cell_type": "code",
      "metadata": {
        "id": "3m7tU1r5Pqhn",
        "colab_type": "code",
        "colab": {}
      },
      "source": [
        "predictions=model_1.predict(x_test)\n",
        "plt.clf()\n",
        "plt.title('training data predicted vs actual values')\n",
        "plt.plot(x_test,y_test,'b',label='actual')\n",
        "plt.plot(x_test,predictions,'r',label='predicted')\n",
        "plt.legend()\n",
        "plt.show()\n"
      ],
      "execution_count": 0,
      "outputs": []
    },
    {
      "cell_type": "code",
      "metadata": {
        "id": "lAnPE9E4P7Rr",
        "colab_type": "code",
        "colab": {}
      },
      "source": [
        "# from the graphs the model is not completely learn so we need to change our model\n",
        "# so we need to increase the more layers"
      ],
      "execution_count": 0,
      "outputs": []
    },
    {
      "cell_type": "code",
      "metadata": {
        "id": "_haMFKbVQiVs",
        "colab_type": "code",
        "colab": {}
      },
      "source": [
        "model_2=tf.keras.Sequential()\n",
        "model_2.add(layers.Dense(16,activation='relu',input_shape=(1,)))\n",
        "model_2.add(layers.Dense(8,activation='relu'))\n",
        "model_2.add(layers.Dense(1))"
      ],
      "execution_count": 0,
      "outputs": []
    },
    {
      "cell_type": "code",
      "metadata": {
        "id": "3Ki4KuDcQ3ws",
        "colab_type": "code",
        "colab": {}
      },
      "source": [
        "model_2.compile(optimizer='rmsprop',loss='mse',metrics=['mae'])"
      ],
      "execution_count": 0,
      "outputs": []
    },
    {
      "cell_type": "code",
      "metadata": {
        "id": "efzUFlnlRTkb",
        "colab_type": "code",
        "colab": {}
      },
      "source": [
        "history_2=model_2.fit(x_train,y_train,epochs=600,batch_size=16,validation_data=(x_validate,y_validate))"
      ],
      "execution_count": 0,
      "outputs": []
    },
    {
      "cell_type": "code",
      "metadata": {
        "id": "P6_z2V5tRp-b",
        "colab_type": "code",
        "colab": {}
      },
      "source": [
        "loss=history_2.history['loss']\n",
        "val_loss=history_2.history['val_loss']\n",
        "epochs=range(1,len(loss)+1)\n",
        "plt.plot(epochs,loss,'b',label='training loss')\n",
        "plt.plot(epochs,val_loss,'g',label='val_loss')\n",
        "plt.title('training and val loss')\n",
        "plt.xlabel('epochs')\n",
        "plt.ylabel('loss')\n",
        "plt.legend()\n",
        "plt.show()"
      ],
      "execution_count": 0,
      "outputs": []
    },
    {
      "cell_type": "code",
      "metadata": {
        "id": "mdTP6XMPUC_E",
        "colab_type": "code",
        "colab": {}
      },
      "source": [
        "skip=100\n",
        "plt.clf()\n",
        "plt.plot(epochs[skip:],loss[skip:],'b',label='training loss')\n",
        "plt.plot(epochs[skip:],val_loss[skip:],'g',label='val loss')\n",
        "plt.title('training and validation loss')\n",
        "plt.xlabel('epochs')\n",
        "plt.ylabel('loss')\n",
        "plt.legend()\n",
        "plt.show()"
      ],
      "execution_count": 0,
      "outputs": []
    },
    {
      "cell_type": "code",
      "metadata": {
        "id": "mFoczT2hU7rx",
        "colab_type": "code",
        "colab": {}
      },
      "source": [
        "loss=model_2.evaluate(x_test,y_test)\n",
        "predictions=model_2.predict(x_test)\n",
        "plt.clf()\n",
        "plt.title('comparision of actual and predictions')\n",
        "plt.plot(x_test,y_test,'b',label='actual')\n",
        "plt.plot(x_test,predictions,'r',label='predicted')\n",
        "plt.legend()\n",
        "plt.show()"
      ],
      "execution_count": 0,
      "outputs": []
    },
    {
      "cell_type": "code",
      "metadata": {
        "id": "-egXugWPWBMR",
        "colab_type": "code",
        "colab": {}
      },
      "source": [
        "# convert the model into tensorflow lite\n",
        "#model_2.save('model_2.h5')\n",
        "converter=tf.lite.TFLiteConverter.from_keras_model_file(model_2)\n",
        "tflite_model=converter.convert()\n",
        "\n",
        "# save the model to disk\n",
        "open('sine_model.tflite','wb').write(tflite_model)\n",
        "\n",
        "# convert the model to the tensorflow lite format with quantization\n",
        "converter=tf.lite.TFLiteConverter.from_keras_model_file(model_2)\n",
        "converter.optimizations=[tf.lite.Optimize.OPTIMIZE_FOR_SIZE]\n",
        "tflite_model=converter.convert()\n",
        "\n",
        "# save the model to the disk\n",
        "open('sine_model_quantized.tflite','wb').write(tflite_model)\n"
      ],
      "execution_count": 0,
      "outputs": []
    },
    {
      "cell_type": "code",
      "metadata": {
        "id": "p0-utdNrX5XL",
        "colab_type": "code",
        "colab": {}
      },
      "source": [
        "sine_model=tf.lite.Interpreter('sine_model.tflite')\n",
        "sine_model_quantized=tf.lite.Interpreter('sine_model_quantized.tflite')\n",
        "sine_model.allocate_tensors()\n",
        "sine_model_quantized.allocate_tensors()"
      ],
      "execution_count": 0,
      "outputs": []
    },
    {
      "cell_type": "code",
      "metadata": {
        "id": "dlSDzgRN-uBO",
        "colab_type": "code",
        "colab": {}
      },
      "source": [
        "# get the input and output tensors so we can feed in values and get the results\n",
        "sine_model_input=sine_model.tensor(sine_model.get_input_details()[0]['index'])\n",
        "sine_model_output=sine_model.tensor(sine_model.get_output_details()[0]['index'])\n",
        "\n",
        "# for quantization input and output tensors\n",
        "sine_quantized_input=sine_model_quantized.tensor(sine_model_quantized.get_input_details()[0]['index'])\n",
        "sine_quantized_output=sine_model_quantized.tensor(sine_model_quantized.get_output_details()[0]['index'])\n",
        "\n"
      ],
      "execution_count": 0,
      "outputs": []
    },
    {
      "cell_type": "code",
      "metadata": {
        "id": "cF8Uybsd-uxE",
        "colab_type": "code",
        "colab": {}
      },
      "source": [
        "# create the arrays to store the results\n",
        "sine_model_predictions=np.empty(x_test.size)\n",
        "sine_model_quantized_predictions=np.empty(x_test.size)"
      ],
      "execution_count": 0,
      "outputs": []
    },
    {
      "cell_type": "code",
      "metadata": {
        "id": "2AJW9uUb-u_-",
        "colab_type": "code",
        "colab": {}
      },
      "source": [
        "# Run each model's interpreter for each value and store the results in arrays\n",
        "for i in range(x_test.size):\n",
        "  sine_model_input().fill(x_test[i])\n",
        "  sine_model.invoke()\n",
        "  sine_model_predictions[i] = sine_model_output()[0]\n",
        "\n",
        "  sine_model_quantized_input().fill(x_test[i])\n",
        "  sine_model_quantized.invoke()\n",
        "  sine_model_quantized_predictions[i] = sine_model_quantized_output()[0]"
      ],
      "execution_count": 0,
      "outputs": []
    },
    {
      "cell_type": "code",
      "metadata": {
        "id": "0wdGR_E2-u70",
        "colab_type": "code",
        "colab": {}
      },
      "source": [
        "# See how they line up with the data\n",
        "plt.clf()\n",
        "plt.title('Comparison of various models against actual values')\n",
        "plt.plot(x_test, y_test, 'bo', label='Actual')\n",
        "plt.plot(x_test, predictions, 'ro', label='Original predictions')\n",
        "plt.plot(x_test, sine_model_predictions, 'bx', label='Lite predictions')\n",
        "plt.plot(x_test, sine_model_quantized_predictions, 'gx', label='Lite quantized predictions')\n",
        "plt.legend()\n",
        "plt.show()"
      ],
      "execution_count": 0,
      "outputs": []
    },
    {
      "cell_type": "code",
      "metadata": {
        "id": "7d3vtS-QB_Z_",
        "colab_type": "code",
        "colab": {}
      },
      "source": [
        "#We can print the difference in file size:\n",
        "import os\n",
        "basic_model_size = os.path.getsize(\"sine_model.tflite\")\n",
        "print(\"Basic model is %d bytes\" % basic_model_size)\n",
        "quantized_model_size = os.path.getsize(\"sine_model_quantized.tflite\")\n",
        "print(\"Quantized model is %d bytes\" % quantized_model_size)\n",
        "difference = basic_model_size - quantized_model_size\n",
        "print(\"Difference is %d bytes\" % difference)"
      ],
      "execution_count": 0,
      "outputs": []
    },
    {
      "cell_type": "code",
      "metadata": {
        "id": "pMddptUWB_Wb",
        "colab_type": "code",
        "colab": {}
      },
      "source": [
        "!apt-get -qq install xxd"
      ],
      "execution_count": 0,
      "outputs": []
    },
    {
      "cell_type": "code",
      "metadata": {
        "id": "mi2G4gy8B_Oa",
        "colab_type": "code",
        "colab": {}
      },
      "source": [
        "# Save the file as a C source file\n",
        "!xxd -i sine_model_quantized.tflite > sine_model_quantized.cc"
      ],
      "execution_count": 0,
      "outputs": []
    },
    {
      "cell_type": "code",
      "metadata": {
        "id": "VmK-qnL2CxLz",
        "colab_type": "code",
        "colab": {}
      },
      "source": [
        "# Print the source file\n",
        "!cat sine_model_quantized.cc"
      ],
      "execution_count": 0,
      "outputs": []
    },
    {
      "cell_type": "code",
      "metadata": {
        "id": "5j17J4bxC54a",
        "colab_type": "code",
        "colab": {}
      },
      "source": [
        ""
      ],
      "execution_count": 0,
      "outputs": []
    },
    {
      "cell_type": "code",
      "metadata": {
        "id": "n536HsJoC6II",
        "colab_type": "code",
        "colab": {}
      },
      "source": [
        ""
      ],
      "execution_count": 0,
      "outputs": []
    },
    {
      "cell_type": "code",
      "metadata": {
        "id": "0QzbMhPzC6Tu",
        "colab_type": "code",
        "colab": {}
      },
      "source": [
        ""
      ],
      "execution_count": 0,
      "outputs": []
    }
  ]
}